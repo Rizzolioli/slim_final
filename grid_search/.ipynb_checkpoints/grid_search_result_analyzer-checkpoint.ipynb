{
 "cells": [
  {
   "cell_type": "markdown",
   "id": "55860bc7",
   "metadata": {},
   "source": [
    "# Importing the necessary libraries"
   ]
  },
  {
   "cell_type": "code",
   "execution_count": 4,
   "id": "6c472b93",
   "metadata": {},
   "outputs": [],
   "source": [
    "import pandas as pd\n",
    "import numpy as np\n",
    "import re"
   ]
  },
  {
   "cell_type": "code",
   "execution_count": 5,
   "id": "efd71753",
   "metadata": {},
   "outputs": [],
   "source": [
    "from scipy.stats import mannwhitneyu as mw"
   ]
  },
  {
   "cell_type": "markdown",
   "id": "9695a64e",
   "metadata": {},
   "source": [
    "# setting up important variables"
   ]
  },
  {
   "cell_type": "code",
   "execution_count": 6,
   "id": "f6b684e7",
   "metadata": {},
   "outputs": [],
   "source": [
    "# energy;concrete;resid_build_sale_price --> ;toxicity --> D;instanbul--> D; ppb --> D"
   ]
  },
  {
   "cell_type": "code",
   "execution_count": 7,
   "id": "3a5900df",
   "metadata": {},
   "outputs": [],
   "source": [
    "dataset = \"concrete\""
   ]
  },
  {
   "cell_type": "code",
   "execution_count": 8,
   "id": "b1a2aeb6",
   "metadata": {},
   "outputs": [],
   "source": [
    "def get_best_params(dataset):\n",
    "    \n",
    "    # reading the dataset\n",
    "    df = pd.read_csv(f\"gridlog/{dataset}_grid_search.csv\").drop(columns = \"Unnamed: 0\")\n",
    "    \n",
    "    # getting the names of the columns with the test rmse and size for each split\n",
    "    test_rmse_colnames = [col for col in df.columns if re.match(\"split[0-9]_test_rmse\", col)]\n",
    "    test_size_colnames = [col.replace(\"rmse\", \"size\") for col in test_rmse_colnames]\n",
    "\n",
    "    # calculating the median test rmse for each parameter combination\n",
    "    df[\"median_test_rmse\"] = df.apply(lambda x: np.abs(np.median([x[cn] for cn in test_rmse_colnames])), axis = 1)\n",
    "\n",
    "    # calculating the median test size for each parameter combination\n",
    "    df[\"median_test_size\"] = df.apply(lambda x: np.abs(np.median([x[cn] for cn in test_size_colnames])), axis = 1)\n",
    "    \n",
    "    # obtaining the best parameter set based on rmse\n",
    "    best_rmse = eval(re.sub(\"<(?:.+)>\",df.sort_values(by = \"median_test_rmse\").iloc[0][\"param_ms\"], \n",
    "       df.sort_values(by = \"median_test_rmse\").iloc[0][\"params\"]))\n",
    "\n",
    "    # obtaining the best parameter set based on size\n",
    "    best_size = eval(re.sub(\"<(?:.+)>\",df.sort_values(by = \"median_test_size\").iloc[0][\"param_ms\"], \n",
    "       df.sort_values(by = \"median_test_size\").iloc[0][\"params\"]))\n",
    "    \n",
    "    ########\n",
    "    \n",
    "    # INVALIDITY\n",
    "    \n",
    "    ########\n",
    "    # discarding invalid combinations\n",
    "    \n",
    "    \n",
    "    i = 1\n",
    "    \n",
    "    invalids = [[\"mul\", False, True], [\"sum\", False, True]]\n",
    "    \n",
    "    while [best_rmse[\"operator\"], best_rmse[\"sig\"], best_rmse[\"two_trees\"]] in invalids:\n",
    "        best_rmse = eval(re.sub(\"<(?:.+)>\",df.sort_values(by = \"median_test_rmse\").iloc[0][\"param_ms\"], \n",
    "       df.sort_values(by = \"median_test_rmse\").iloc[i][\"params\"]))\n",
    "        \n",
    "        i += 1\n",
    "        \n",
    "    i = 1\n",
    "    \n",
    "    while [best_size[\"operator\"], best_size[\"sig\"], best_size[\"two_trees\"]] in invalids:\n",
    "        best_size = eval(re.sub(\"<(?:.+)>\",df.sort_values(by = \"median_test_size\").iloc[0][\"param_ms\"], \n",
    "       df.sort_values(by = \"median_test_size\").iloc[i][\"params\"]))\n",
    "        \n",
    "        i += 1\n",
    "        \n",
    "    \n",
    "    return best_rmse, best_size, df"
   ]
  },
  {
   "cell_type": "code",
   "execution_count": 9,
   "id": "a0dba726",
   "metadata": {},
   "outputs": [],
   "source": [
    "def find_first_significance(df, by_size=False):\n",
    "    \n",
    "    \"\"\"\n",
    "    \n",
    "    No longer used since we will just present top 10 results\n",
    "    \n",
    "    \"\"\"\n",
    "    if by_size:\n",
    "        for i in range(len(df)):\n",
    "            if mw(df.sort_values(by = \"median_test_size\").iloc[0][size_cols].values.tolist(), \n",
    "                       df.sort_values(by = \"median_test_size\").iloc[i][size_cols].values.tolist())[-1] <= 0.05:\n",
    "                return i\n",
    "        return None\n",
    "    else:\n",
    "        for i in range(len(df)):\n",
    "            if mw(df.sort_values(by = \"median_test_rmse\").iloc[0][rmse_cols].values.tolist(), \n",
    "                       df.sort_values(by = \"median_test_rmse\").iloc[i][rmse_cols].values.tolist())[-1] <= 0.05:\n",
    "                return i\n",
    "        return None"
   ]
  },
  {
   "cell_type": "markdown",
   "id": "7edb9e89",
   "metadata": {},
   "source": [
    "# analyzing the results"
   ]
  },
  {
   "cell_type": "code",
   "execution_count": 10,
   "id": "84c427e8",
   "metadata": {},
   "outputs": [],
   "source": [
    "rmse, size, df = get_best_params(dataset=dataset)"
   ]
  },
  {
   "cell_type": "code",
   "execution_count": 13,
   "id": "e85ebbe2",
   "metadata": {},
   "outputs": [
    {
     "data": {
      "text/plain": [
       "{'copy_parent': True,\n",
       " 'max_depth': None,\n",
       " 'ms': (0, 3),\n",
       " 'operator': 'sum',\n",
       " 'p_inflate': 0.9,\n",
       " 'sig': True,\n",
       " 'two_trees': False}"
      ]
     },
     "execution_count": 13,
     "metadata": {},
     "output_type": "execute_result"
    }
   ],
   "source": [
    "rmse"
   ]
  },
  {
   "cell_type": "code",
   "execution_count": 35,
   "id": "5a88ef89",
   "metadata": {},
   "outputs": [],
   "source": [
    "size_cols = [col for col in df.columns if \"split\" in col and \"rmse\" not in col]\n",
    "rmse_cols = [col for col in df.columns if \"split\" in col and \"rmse\" in col]"
   ]
  },
  {
   "cell_type": "code",
   "execution_count": 40,
   "id": "29a0cedd",
   "metadata": {},
   "outputs": [
    {
     "data": {
      "text/plain": [
       "{'copy_parent': True,\n",
       " 'max_depth': None,\n",
       " 'ms': (0, 3),\n",
       " 'operator': 'sum',\n",
       " 'p_inflate': 0.9,\n",
       " 'sig': True,\n",
       " 'two_trees': False}"
      ]
     },
     "execution_count": 40,
     "metadata": {},
     "output_type": "execute_result"
    }
   ],
   "source": [
    "rmse\n"
   ]
  },
  {
   "cell_type": "code",
   "execution_count": null,
   "id": "c9391930",
   "metadata": {},
   "outputs": [],
   "source": []
  },
  {
   "cell_type": "code",
   "execution_count": null,
   "id": "75a623bf",
   "metadata": {},
   "outputs": [],
   "source": []
  },
  {
   "cell_type": "code",
   "execution_count": null,
   "id": "042d8919",
   "metadata": {},
   "outputs": [],
   "source": []
  }
 ],
 "metadata": {
  "kernelspec": {
   "display_name": "Python 3 (ipykernel)",
   "language": "python",
   "name": "python3"
  },
  "language_info": {
   "codemirror_mode": {
    "name": "ipython",
    "version": 3
   },
   "file_extension": ".py",
   "mimetype": "text/x-python",
   "name": "python",
   "nbconvert_exporter": "python",
   "pygments_lexer": "ipython3",
   "version": "3.11.5"
  }
 },
 "nbformat": 4,
 "nbformat_minor": 5
}
